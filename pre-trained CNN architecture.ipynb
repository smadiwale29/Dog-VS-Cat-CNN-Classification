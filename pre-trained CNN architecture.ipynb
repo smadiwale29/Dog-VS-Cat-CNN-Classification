{
 "cells": [
  {
   "cell_type": "markdown",
   "id": "1b32afc1-4024-4889-a55b-08237d9898dd",
   "metadata": {},
   "source": [
    "# Image classification using a pre-trained CNN architecture"
   ]
  },
  {
   "cell_type": "code",
   "execution_count": 1,
   "id": "58def2e8-d3b7-4293-9aab-5ec23160bbe3",
   "metadata": {},
   "outputs": [],
   "source": [
    "from tensorflow.keras.models import load_model\n",
    "import cv2\n",
    "import os"
   ]
  },
  {
   "cell_type": "markdown",
   "id": "15a4b85a-c227-4966-8edf-aa15ef57f52d",
   "metadata": {},
   "source": [
    "## Import pre_trained model"
   ]
  },
  {
   "cell_type": "code",
   "execution_count": 2,
   "id": "4b365e5e-9641-48a9-a35c-a5095ad2d189",
   "metadata": {},
   "outputs": [
    {
     "name": "stderr",
     "output_type": "stream",
     "text": [
      "WARNING:absl:Compiled the loaded model, but the compiled metrics have yet to be built. `model.compile_metrics` will be empty until you train or evaluate the model.\n"
     ]
    }
   ],
   "source": [
    "model = load_model('../Assignment/CNNModel.h5')"
   ]
  },
  {
   "cell_type": "markdown",
   "id": "9240d387-af8d-40a7-a717-59a1eca23fbe",
   "metadata": {},
   "source": [
    "## Fetech file name for available data folder"
   ]
  },
  {
   "cell_type": "code",
   "execution_count": 3,
   "id": "bd2efe4c-d6ed-44e8-b9cf-63703be40fe6",
   "metadata": {},
   "outputs": [],
   "source": [
    "def get_animal(filename):\n",
    "    A = cv2.imread('../ex/test/' +filename)\n",
    "    A = cv2.resize(A,(224,224))\n",
    "    A = A/225\n",
    "    A = A.reshape(1,224,224,3)\n",
    "    yp = model.predict_on_batch(A).argmax()\n",
    "    return 'Cat' if yp == 0 else 'Dog'"
   ]
  },
  {
   "cell_type": "markdown",
   "id": "a9d2057b-e8bf-42d9-9ec5-1ba22d56c1e1",
   "metadata": {},
   "source": [
    "## Predcition"
   ]
  },
  {
   "cell_type": "code",
   "execution_count": 6,
   "id": "8a5246f5-cbb3-46f8-9102-190106f721c0",
   "metadata": {},
   "outputs": [
    {
     "name": "stdout",
     "output_type": "stream",
     "text": [
      "CAT 1.jpeg Cat\n",
      "CAT 2.jpeg Cat\n",
      "CAT 3.jpeg Cat\n",
      "CAT 4.jpeg Cat\n",
      "CAT 5.jpeg Cat\n",
      "DOG 1.jpeg Dog\n",
      "DOG 2.jpeg Dog\n",
      "DOG 3.jpeg Dog\n",
      "DOG 4.jpeg Dog\n",
      "DOG 5.jpeg Dog\n"
     ]
    }
   ],
   "source": [
    "filename = os.listdir('../ex/test/')\n",
    "for file in filename:\n",
    "    print(file,get_animal(file))"
   ]
  },
  {
   "cell_type": "code",
   "execution_count": null,
   "id": "9f2b03d1-e794-468d-a750-e0fe8a886c3a",
   "metadata": {},
   "outputs": [],
   "source": []
  }
 ],
 "metadata": {
  "kernelspec": {
   "display_name": "Python [conda env:tf_01]",
   "language": "python",
   "name": "conda-env-tf_01-py"
  },
  "language_info": {
   "codemirror_mode": {
    "name": "ipython",
    "version": 3
   },
   "file_extension": ".py",
   "mimetype": "text/x-python",
   "name": "python",
   "nbconvert_exporter": "python",
   "pygments_lexer": "ipython3",
   "version": "3.11.7"
  },
  "widgets": {
   "application/vnd.jupyter.widget-state+json": {
    "state": {},
    "version_major": 2,
    "version_minor": 0
   }
  }
 },
 "nbformat": 4,
 "nbformat_minor": 5
}
